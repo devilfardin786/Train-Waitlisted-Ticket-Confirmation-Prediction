{
 "cells": [
  {
   "cell_type": "code",
   "execution_count": 5,
   "id": "558b6923-f39d-482f-991d-d46870daa9ca",
   "metadata": {},
   "outputs": [
    {
     "name": "stdout",
     "output_type": "stream",
     "text": [
      "   Unnamed: 0 travelClass  bookingStatus  status1Day  status1Month  \\\n",
      "0           0          3A             21          28            12   \n",
      "1           1          3A             14          63            -1   \n",
      "2           2          3A             39          -1            -1   \n",
      "3           3          3A             11          46             8   \n",
      "4           4          3A             20          -1            -1   \n",
      "\n",
      "   status1Week  status2Days  labels  \n",
      "0           14           15       0  \n",
      "1           -1           -1       0  \n",
      "2           -1           18       0  \n",
      "3           -1           -1       0  \n",
      "4            7           -1       0  \n",
      "Accuracy of a Random_Forest_classifier\n",
      "Accuracy: 96.68%\n"
     ]
    },
    {
     "data": {
      "text/plain": [
       "['waitlist_model.joblib']"
      ]
     },
     "execution_count": 5,
     "metadata": {},
     "output_type": "execute_result"
    }
   ],
   "source": [
    "\n",
    "# Import necessary libraries\n",
    "import pandas as pd\n",
    "from sklearn.model_selection import train_test_split\n",
    "from sklearn.preprocessing import StandardScaler, OneHotEncoder\n",
    "from sklearn.compose import ColumnTransformer\n",
    "from sklearn.pipeline import Pipeline\n",
    "from sklearn.ensemble import RandomForestClassifier\n",
    "from xgboost import XGBClassifier\n",
    "from sklearn.metrics import accuracy_score\n",
    "\n",
    "# Load your dataset\n",
    "# Assuming your dataset is in CSV format\n",
    "data = pd.read_csv('original github se copy wala csv.csv')\n",
    "\n",
    "# Display the first few rows of the dataset to understand its structure\n",
    "print(data.head())\n",
    "\n",
    "# Data Preprocessing\n",
    "# Assuming 'waitlisted' is the feature you want to predict, and other columns are your features\n",
    "X = data.drop('labels', axis=1)\n",
    "y = data['labels']\n",
    "\n",
    "# Split the data into training and testing sets\n",
    "X_train, X_test, y_train, y_test = train_test_split(X, y, test_size=0.2, random_state=42)\n",
    "\n",
    "# Define categorical and numerical features\n",
    "categorical_features = X.select_dtypes(include=['object']).columns\n",
    "numerical_features = X.select_dtypes(exclude=['object']).columns\n",
    "\n",
    "# Create transformers for numerical and categorical features\n",
    "numerical_transformer = StandardScaler()\n",
    "categorical_transformer = OneHotEncoder(handle_unknown='ignore')\n",
    "\n",
    "# Create a column transformer to apply different transformers to different columns\n",
    "preprocessor = ColumnTransformer(\n",
    "    transformers=[\n",
    "        ('num', numerical_transformer, numerical_features),\n",
    "        ('cat', categorical_transformer, categorical_features)\n",
    "    ])\n",
    "\n",
    "print(\"Accuracy of a Random_Forest_classifier\")\n",
    "\n",
    "\n",
    "# Create a pipeline with preprocessing and the classifier\n",
    "model = Pipeline(steps=[\n",
    "    ('preprocessor', preprocessor),\n",
    "    ('classifier', RandomForestClassifier(n_estimators=100, random_state=42))\n",
    "])\n",
    "\n",
    "# Fit the model\n",
    "model.fit(X_train, y_train)\n",
    "\n",
    "# Make predictions on the test set\n",
    "y_pred = model.predict(X_test)\n",
    "\n",
    "# Evaluate the model\n",
    "accuracy = accuracy_score(y_test, y_pred)\n",
    "print(f'Accuracy: {accuracy * 100:.2f}%')\n",
    "# Save the model for future use\n",
    "# You can use joblib or pickle to save the model\n",
    "import joblib\n",
    "joblib.dump(model, 'waitlist_model.joblib')\n",
    "\n"
   ]
  },
  {
   "cell_type": "code",
   "execution_count": 11,
   "id": "2d02b57c-1d66-4c6f-8c52-4e88c14165e9",
   "metadata": {},
   "outputs": [
    {
     "name": "stdout",
     "output_type": "stream",
     "text": [
      "Accuracy of a XGBoost_classifier\n"
     ]
    },
    {
     "name": "stderr",
     "output_type": "stream",
     "text": [
      "C:\\Users\\Fardin Khan\\AppData\\Local\\Programs\\Python\\Python311\\Lib\\site-packages\\xgboost\\data.py:520: FutureWarning: is_sparse is deprecated and will be removed in a future version. Check `isinstance(dtype, pd.SparseDtype)` instead.\n",
      "  if is_sparse(data):\n"
     ]
    },
    {
     "name": "stdout",
     "output_type": "stream",
     "text": [
      "Accuracy: 96.82%\n"
     ]
    },
    {
     "data": {
      "text/plain": [
       "['waitlist_model_xgboost.joblib']"
      ]
     },
     "execution_count": 11,
     "metadata": {},
     "output_type": "execute_result"
    }
   ],
   "source": [
    "print(\"Accuracy of a XGBoost_classifier\")\n",
    "\n",
    "# Create a pipeline with preprocessing and the classifier (XGBoost)\n",
    "model2 = Pipeline(steps=[\n",
    "    ('preprocessor', preprocessor),\n",
    "    ('classifier', XGBClassifier())\n",
    "])\n",
    "\n",
    "# Fit the model\n",
    "model2.fit(X_train, y_train)\n",
    "\n",
    "# Make predictions on the test set\n",
    "y_pred = model2.predict(X_test)\n",
    "\n",
    "# Evaluate the model\n",
    "accuracy2 = accuracy_score(y_test, y_pred)\n",
    "print(f'Accuracy: {accuracy2 * 100:.2f}%')\n",
    "import joblib\n",
    "joblib.dump(model2, 'waitlist_model_xgboost.joblib')"
   ]
  },
  {
   "cell_type": "code",
   "execution_count": 12,
   "id": "4bfb25de-2080-4a92-9d49-9fd0ec172c8f",
   "metadata": {},
   "outputs": [
    {
     "name": "stdout",
     "output_type": "stream",
     "text": [
      "Accuracy of a Logistic_Regression\n",
      "Accuracy: 95.33%\n"
     ]
    },
    {
     "data": {
      "text/plain": [
       "['waitlist_model_logistic_Regression.joblib']"
      ]
     },
     "execution_count": 12,
     "metadata": {},
     "output_type": "execute_result"
    }
   ],
   "source": [
    "print(\"Accuracy of a Logistic_Regression\")\n",
    "from sklearn.linear_model import LogisticRegression\n",
    "# Create a pipeline with preprocessing and the classifier (XGBoost)\n",
    "model3 = Pipeline(steps=[\n",
    "    ('preprocessor', preprocessor),\n",
    "    ('classifier', LogisticRegression())\n",
    "])\n",
    "\n",
    "# Fit the model\n",
    "model3.fit(X_train, y_train)\n",
    "\n",
    "# Make predictions on the test set\n",
    "y_pred = model3.predict(X_test)\n",
    "\n",
    "# Evaluate the model\n",
    "accuracy3 = accuracy_score(y_test, y_pred)\n",
    "print(f'Accuracy: {accuracy3 * 100:.2f}%')\n",
    "import joblib\n",
    "joblib.dump(model3, 'waitlist_model_logistic_Regression.joblib')"
   ]
  },
  {
   "cell_type": "code",
   "execution_count": 15,
   "id": "a540f03f-a11a-43b7-abc8-09d4a94272e7",
   "metadata": {},
   "outputs": [
    {
     "name": "stdout",
     "output_type": "stream",
     "text": [
      "Accuracy of a Support_Vector_Machine\n",
      "Accuracy: 94.20%\n"
     ]
    },
    {
     "data": {
      "text/plain": [
       "['waitlist_model_SVC.joblib']"
      ]
     },
     "execution_count": 15,
     "metadata": {},
     "output_type": "execute_result"
    }
   ],
   "source": [
    "print(\"Accuracy of a Support_Vector_Machine\")\n",
    "from sklearn.svm import SVC\n",
    "# Create a pipeline with preprocessing and the classifier (XGBoost)\n",
    "model4 = Pipeline(steps=[\n",
    "    ('preprocessor', preprocessor),\n",
    "    ('classifier', SVC())\n",
    "])\n",
    "\n",
    "# Fit the model\n",
    "model4.fit(X_train, y_train)\n",
    "\n",
    "# Make predictions on the test set\n",
    "y_pred = model4.predict(X_test)\n",
    "\n",
    "# Evaluate the model\n",
    "accuracy4 = accuracy_score(y_test, y_pred)\n",
    "print(f'Accuracy: {accuracy4 * 100:.2f}%')\n",
    "import joblib\n",
    "joblib.dump(model4, 'waitlist_model_SVC.joblib')"
   ]
  },
  {
   "cell_type": "code",
   "execution_count": 17,
   "id": "c8d70202-ecf6-4e44-b608-884a3868734b",
   "metadata": {},
   "outputs": [
    {
     "name": "stdout",
     "output_type": "stream",
     "text": [
      "Accuracy of a K_Nearest_Neighbors(KNN)\n",
      "Accuracy: 94.76%\n"
     ]
    },
    {
     "data": {
      "text/plain": [
       "['waitlist_model_KNN.joblib']"
      ]
     },
     "execution_count": 17,
     "metadata": {},
     "output_type": "execute_result"
    }
   ],
   "source": [
    "print(\"Accuracy of a K_Nearest_Neighbors(KNN)\")\n",
    "from sklearn.neighbors import KNeighborsClassifier\n",
    "# Create a pipeline with preprocessing and the classifier (XGBoost)\n",
    "model5 = Pipeline(steps=[\n",
    "    ('preprocessor', preprocessor),\n",
    "    ('classifier', KNeighborsClassifier())\n",
    "])\n",
    "\n",
    "# Fit the model\n",
    "model5.fit(X_train, y_train)\n",
    "\n",
    "# Make predictions on the test set\n",
    "y_pred = model5.predict(X_test)\n",
    "\n",
    "# Evaluate the model\n",
    "accuracy5 = accuracy_score(y_test, y_pred)\n",
    "print(f'Accuracy: {accuracy5 * 100:.2f}%')\n",
    "import joblib\n",
    "joblib.dump(model5, 'waitlist_model_KNN.joblib')"
   ]
  },
  {
   "cell_type": "code",
   "execution_count": 20,
   "id": "6f0e1411-d701-442d-8751-2c4279e667fa",
   "metadata": {},
   "outputs": [
    {
     "name": "stdout",
     "output_type": "stream",
     "text": [
      "Accuracy of a Neural Network(MLP classifier)\n",
      "Accuracy: 96.81%\n"
     ]
    },
    {
     "data": {
      "text/plain": [
       "['waitlist_model_KNN.joblib']"
      ]
     },
     "execution_count": 20,
     "metadata": {},
     "output_type": "execute_result"
    }
   ],
   "source": [
    "print(\"Accuracy of a Neural Network(MLP classifier)\")\n",
    "from sklearn.neural_network import MLPClassifier\n",
    "# Create a pipeline with preprocessing and the classifier (XGBoost)\n",
    "model6 = Pipeline(steps=[\n",
    "    ('preprocessor', preprocessor),\n",
    "    ('classifier', MLPClassifier())\n",
    "])\n",
    "\n",
    "# Fit the model\n",
    "model6.fit(X_train, y_train)\n",
    "\n",
    "# Make predictions on the test set\n",
    "y_pred = model6.predict(X_test)\n",
    "\n",
    "# Evaluate the model\n",
    "accuracy6 = accuracy_score(y_test, y_pred)\n",
    "print(f'Accuracy: {accuracy6 * 100:.2f}%')\n",
    "import joblib\n",
    "joblib.dump(model6, 'waitlist_model_KNN.joblib')"
   ]
  },
  {
   "cell_type": "code",
   "execution_count": 21,
   "id": "fcb87473-e07d-41ea-9ec9-de46ec149c4d",
   "metadata": {},
   "outputs": [
    {
     "name": "stdout",
     "output_type": "stream",
     "text": [
      "Accuracy of a Naive_Bayes\n",
      "Accuracy: 72.89%\n"
     ]
    },
    {
     "data": {
      "text/plain": [
       "['waitlist_model_KNN.joblib']"
      ]
     },
     "execution_count": 21,
     "metadata": {},
     "output_type": "execute_result"
    }
   ],
   "source": [
    "print(\"Accuracy of a Naive_Bayes\")\n",
    "from sklearn.naive_bayes import GaussianNB\n",
    "# Create a pipeline with preprocessing and the classifier (XGBoost)\n",
    "model7 = Pipeline(steps=[\n",
    "    ('preprocessor', preprocessor),\n",
    "    ('classifier', GaussianNB())\n",
    "])\n",
    "\n",
    "# Fit the model\n",
    "model7.fit(X_train, y_train)\n",
    "\n",
    "# Make predictions on the test set\n",
    "y_pred = model7.predict(X_test)\n",
    "\n",
    "# Evaluate the model\n",
    "accuracy7 = accuracy_score(y_test, y_pred)\n",
    "print(f'Accuracy: {accuracy7 * 100:.2f}%')\n",
    "import joblib\n",
    "joblib.dump(model7, 'waitlist_model_KNN.joblib')"
   ]
  }
 ],
 "metadata": {
  "kernelspec": {
   "display_name": "Python 3 (ipykernel)",
   "language": "python",
   "name": "python3"
  },
  "language_info": {
   "codemirror_mode": {
    "name": "ipython",
    "version": 3
   },
   "file_extension": ".py",
   "mimetype": "text/x-python",
   "name": "python",
   "nbconvert_exporter": "python",
   "pygments_lexer": "ipython3",
   "version": "3.11.5"
  }
 },
 "nbformat": 4,
 "nbformat_minor": 5
}
